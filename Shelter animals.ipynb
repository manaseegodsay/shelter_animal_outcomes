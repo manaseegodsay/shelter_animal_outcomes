{
 "cells": [
  {
   "cell_type": "code",
   "execution_count": 15,
   "metadata": {
    "collapsed": true
   },
   "outputs": [],
   "source": [
    "#Reading data\n",
    "\n",
    "import numpy as np # linear algebra\n",
    "import pandas as pd # data processing, CSV file I/O (e.g. pd.read_csv)\n",
    "import seaborn as sns\n",
    "import csv as csv\n",
    "import sklearn\n",
    "import matplotlib.pyplot as plt\n",
    "from datetime import datetime\n",
    "%matplotlib inline\n",
    "\n",
    "\n"
   ]
  },
  {
   "cell_type": "code",
   "execution_count": 16,
   "metadata": {},
   "outputs": [
    {
     "name": "stdout",
     "output_type": "stream",
     "text": [
      "<class 'pandas.core.frame.DataFrame'>\n",
      "RangeIndex: 11456 entries, 0 to 11455\n",
      "Data columns (total 8 columns):\n",
      "ID                11456 non-null int64\n",
      "Name              8231 non-null object\n",
      "DateTime          11456 non-null object\n",
      "AnimalType        11456 non-null object\n",
      "SexuponOutcome    11456 non-null object\n",
      "AgeuponOutcome    11450 non-null object\n",
      "Breed             11456 non-null object\n",
      "Color             11456 non-null object\n",
      "dtypes: int64(1), object(7)\n",
      "memory usage: 716.1+ KB\n",
      "None\n",
      "<class 'pandas.core.frame.DataFrame'>\n",
      "RangeIndex: 26729 entries, 0 to 26728\n",
      "Data columns (total 10 columns):\n",
      "AnimalID          26729 non-null object\n",
      "Name              19038 non-null object\n",
      "DateTime          26729 non-null object\n",
      "OutcomeType       26729 non-null object\n",
      "OutcomeSubtype    13117 non-null object\n",
      "AnimalType        26729 non-null object\n",
      "SexuponOutcome    26728 non-null object\n",
      "AgeuponOutcome    26711 non-null object\n",
      "Breed             26729 non-null object\n",
      "Color             26729 non-null object\n",
      "dtypes: object(10)\n",
      "memory usage: 2.0+ MB\n",
      "None\n"
     ]
    },
    {
     "data": {
      "text/plain": [
       "<matplotlib.axes._subplots.AxesSubplot at 0x1d6eaf6bb00>"
      ]
     },
     "execution_count": 16,
     "metadata": {},
     "output_type": "execute_result"
    },
    {
     "data": {
      "image/png": "[encoded data removed]",
      "text/plain": [
       "<matplotlib.figure.Figure at 0x1d6eaf6b2e8>"
      ]
     },
     "metadata": {},
     "output_type": "display_data"
    }
   ],
   "source": [
    "# load the data\n",
    "\n",
    "train_df = pd.read_csv(\"shelter-animal-outcomes/train.csv.gz\")\n",
    "test_df = pd.read_csv(\"shelter-animal-outcomes/test.csv.gz\")\n",
    "\n",
    "print(test_df.info())\n",
    "print(train_df.info())\n",
    "\n",
    "#EDA\n",
    "bal_population = train_df.groupby('AnimalType')['DateTime'].count()\n",
    "bal_population.plot.bar()\n",
    "\n"
   ]
  },
  {
   "cell_type": "code",
   "execution_count": 17,
   "metadata": {
    "collapsed": true
   },
   "outputs": [],
   "source": [
    "#Replacing Nan with Unknown\n",
    "train_df['OutcomeSubtype'].replace(np.nan, 'Unknown', regex=True, inplace=True)"
   ]
  },
  {
   "cell_type": "code",
   "execution_count": 18,
   "metadata": {},
   "outputs": [
    {
     "name": "stdout",
     "output_type": "stream",
     "text": [
      "AgeuponOutcome conversion done.\n"
     ]
    }
   ],
   "source": [
    "# convert all of the AgeuponOutcome values into weeks\n",
    "\n",
    "def convert_AgeuponOutcome_to_weeks(df):\n",
    "    result = {}\n",
    "    for k in df['AgeuponOutcome'].unique():\n",
    "        if type(k) != type(\"\"):\n",
    "            result[k] = -1\n",
    "        else:\n",
    "            v1, v2 = k.split()\n",
    "            if v2 in [\"year\", \"years\"]:\n",
    "                result[k] = int(v1) * 52\n",
    "            elif v2 in [\"month\", \"months\"]:\n",
    "                result[k] = int(v1) * 4.5\n",
    "            elif v2 in [\"week\", \"weeks\"]:\n",
    "                result[k] = int(v1)\n",
    "            elif v2 in [\"day\", \"days\"]:\n",
    "                result[k] = int(v1) / 7\n",
    "                \n",
    "    df['_AgeuponOutcome'] = df['AgeuponOutcome'].map(result).astype(float)\n",
    "    df = df.drop('AgeuponOutcome', axis = 1)\n",
    "                \n",
    "    return df\n",
    "\n",
    "train_df = convert_AgeuponOutcome_to_weeks(train_df)\n",
    "test_df = convert_AgeuponOutcome_to_weeks(test_df)\n",
    "print(\"AgeuponOutcome conversion done.\")\n"
   ]
  },
  {
   "cell_type": "code",
   "execution_count": 19,
   "metadata": {},
   "outputs": [
    {
     "name": "stdout",
     "output_type": "stream",
     "text": [
      "Numerical conversion of features done.\n"
     ]
    }
   ],
   "source": [
    "# convert all of the remaining features to numeric values\n",
    "\n",
    "def convert_to_numeric(df):\n",
    "    for col in ['Name', 'AnimalType', 'SexuponOutcome',\n",
    "                'Breed', 'Color', 'OutcomeType']:\n",
    "        if col in df.columns:\n",
    "            _col = \"_%s\" % (col)\n",
    "            values = df[col].unique()\n",
    "            _values = dict(zip(values, range(len(values))))\n",
    "            df[_col] = df[col].map(_values).astype(int)\n",
    "            df = df.drop(col, axis = 1)\n",
    "    return df\n",
    "\n",
    "train_df = convert_to_numeric(train_df)\n",
    "test_df = convert_to_numeric(test_df)\n",
    "\n",
    "print(\"Numerical conversion of features done.\")"
   ]
  },
  {
   "cell_type": "code",
   "execution_count": 20,
   "metadata": {},
   "outputs": [
    {
     "name": "stdout",
     "output_type": "stream",
     "text": [
      "DateTime column split into parts done.\n"
     ]
    }
   ],
   "source": [
    "# fix the DateTime column\n",
    "\n",
    "def fix_date_time(df):\n",
    "    def extract_field(_df, start, stop):\n",
    "        return _df['DateTime'].map(lambda dt: int(dt[start:stop]))\n",
    "    df['Year'] = extract_field(df,0,4)\n",
    "    df['Month'] = extract_field(df,5,7)\n",
    "    df['Day'] = extract_field(df,8,10)\n",
    "    df['Hour'] = extract_field(df,11,13)\n",
    "    df['Minute'] = extract_field(df,14,16)\n",
    "    \n",
    "    return df.drop(['DateTime'], axis = 1)\n",
    "\n",
    "train_df = fix_date_time(train_df)\n",
    "test_df = fix_date_time(test_df)\n",
    "\n",
    "print(\"DateTime column split into parts done.\")"
   ]
  },
  {
   "cell_type": "code",
   "execution_count": 21,
   "metadata": {},
   "outputs": [
    {
     "name": "stdout",
     "output_type": "stream",
     "text": [
      "<class 'pandas.core.frame.DataFrame'>\n",
      "RangeIndex: 26729 entries, 0 to 26728\n",
      "Data columns (total 13 columns):\n",
      "AnimalID           26729 non-null object\n",
      "_Name              26729 non-null int32\n",
      "_AnimalType        26729 non-null int32\n",
      "_SexuponOutcome    26729 non-null int32\n",
      "_AgeuponOutcome    26729 non-null float64\n",
      "_Breed             26729 non-null int32\n",
      "_Color             26729 non-null int32\n",
      "Year               26729 non-null int64\n",
      "Month              26729 non-null int64\n",
      "Day                26729 non-null int64\n",
      "Hour               26729 non-null int64\n",
      "Minute             26729 non-null int64\n",
      "_OutcomeType       26729 non-null int32\n",
      "dtypes: float64(1), int32(6), int64(5), object(1)\n",
      "memory usage: 2.0+ MB\n",
      "None\n"
     ]
    }
   ],
   "source": [
    "# re-index train_df so that ID is first and Target (_OutcomeType) is last\n",
    "\n",
    "train_df = train_df.reindex(columns = ['AnimalID', '_Name',\n",
    "                                       '_AnimalType', '_SexuponOutcome',\n",
    "                                       '_AgeuponOutcome', '_Breed', '_Color',\n",
    "                                       'Year', 'Month', 'Day', 'Hour', 'Minute',\n",
    "                                       '_OutcomeType'])\n",
    "print(train_df.info())"
   ]
  },
  {
   "cell_type": "code",
   "execution_count": 22,
   "metadata": {},
   "outputs": [
    {
     "name": "stdout",
     "output_type": "stream",
     "text": [
      "21383\n",
      "5346\n"
     ]
    }
   ],
   "source": [
    "# split the data into a training set (80%) and a validation set (20%)\n",
    "\n",
    "cut = int(len(train_df) * 0.8)\n",
    "_validation_df = train_df[cut:]\n",
    "_train_df = train_df[:cut]\n",
    "\n",
    "print(len(_train_df))\n",
    "print(len(_validation_df))"
   ]
  },
  {
   "cell_type": "code",
   "execution_count": 23,
   "metadata": {},
   "outputs": [
    {
     "data": {
      "text/plain": [
       "AnimalID           0\n",
       "_Name              0\n",
       "_AnimalType        0\n",
       "_SexuponOutcome    0\n",
       "_AgeuponOutcome    0\n",
       "_Breed             0\n",
       "_Color             0\n",
       "Year               0\n",
       "Month              0\n",
       "Day                0\n",
       "Hour               0\n",
       "Minute             0\n",
       "_OutcomeType       0\n",
       "dtype: int64"
      ]
     },
     "execution_count": 23,
     "metadata": {},
     "output_type": "execute_result"
    }
   ],
   "source": [
    "type(train_df)\n",
    "train_df.isnull().sum()"
   ]
  },
  {
   "cell_type": "code",
   "execution_count": 24,
   "metadata": {},
   "outputs": [
    {
     "name": "stdout",
     "output_type": "stream",
     "text": [
      "[[0.23264917 0.1749446  0.25557164 0.21633075 0.12050385]\n",
      " [0.24142535 0.18916949 0.24386223 0.2317262  0.09381674]\n",
      " [0.24314206 0.21635891 0.19698164 0.22406924 0.11944815]\n",
      " ...\n",
      " [0.23494896 0.18280779 0.23424835 0.22406024 0.12393467]\n",
      " [0.16505102 0.23280716 0.09194534 0.29860985 0.21158662]\n",
      " [0.14321332 0.19964865 0.14150317 0.29156018 0.22407469]]\n"
     ]
    }
   ],
   "source": [
    "# build a classifier with scikit-learn - AdaBoost\n",
    "\n",
    "\n",
    "from sklearn.ensemble import AdaBoostClassifier\n",
    "from sklearn.tree import DecisionTreeClassifier\n",
    "\n",
    "A1 = AdaBoostClassifier(DecisionTreeClassifier(max_depth = 2),\n",
    "                        n_estimators = 100,\n",
    "                        learning_rate = 0.1)\n",
    "\n",
    "classifiers = [c.fit(_train_df.values[:,1:-1],\n",
    "                     _train_df.values[:,-1].astype(int)) \\\n",
    "               for c in [A1]]\n",
    "results = [c.predict_proba(_validation_df.values[:,1:-1]) \\\n",
    "           for c in classifiers]\n",
    "print(results[0])\n"
   ]
  },
  {
   "cell_type": "code",
   "execution_count": 25,
   "metadata": {},
   "outputs": [
    {
     "name": "stdout",
     "output_type": "stream",
     "text": [
      "[1.3743101163358022]\n"
     ]
    }
   ],
   "source": [
    "# calculate the log loss of result\n",
    "\n",
    "from sklearn.metrics import log_loss\n",
    "\n",
    "print([log_loss(_validation_df.values[:,-1].astype(int), r) for r in results])\n",
    "\n"
   ]
  },
  {
   "cell_type": "code",
   "execution_count": 26,
   "metadata": {},
   "outputs": [],
   "source": [
    "#Test data\n",
    "\n",
    "ab = classifiers[0].fit(train_df.values[:,1:-1],\n",
    "                        train_df.values[:,-1].astype(int))\n",
    "\n",
    "\n"
   ]
  },
  {
   "cell_type": "code",
   "execution_count": 27,
   "metadata": {},
   "outputs": [
    {
     "name": "stdout",
     "output_type": "stream",
     "text": [
      "          ID  Adoption      Died  Euthanasia  Return_to_owner  Transfer\n",
      "0          1  0.263052  0.151205    0.131080         0.328896  0.125767\n",
      "1          2  0.256032  0.150986    0.145797         0.327620  0.119565\n",
      "2          3  0.265083  0.142077    0.129677         0.339719  0.123444\n",
      "3          4  0.253857  0.149044    0.143764         0.325552  0.127783\n",
      "4          5  0.257525  0.149688    0.145761         0.325928  0.121098\n",
      "5          6  0.242688  0.147425    0.133562         0.334882  0.141443\n",
      "6          7  0.227382  0.154990    0.172216         0.300850  0.144562\n",
      "7          8  0.204594  0.160070    0.174448         0.297276  0.163612\n",
      "8          9  0.252378  0.150510    0.140552         0.322682  0.133878\n",
      "9         10  0.277430  0.146258    0.138057         0.327562  0.110692\n",
      "10        11  0.270207  0.147227    0.130880         0.321541  0.130145\n",
      "11        12  0.245334  0.151820    0.134771         0.338580  0.129496\n",
      "12        13  0.260068  0.146237    0.123236         0.333299  0.137160\n",
      "13        14  0.257662  0.148500    0.144973         0.318391  0.130474\n",
      "14        15  0.253830  0.150023    0.140815         0.315939  0.139393\n",
      "15        16  0.273989  0.145567    0.134478         0.322045  0.123921\n",
      "16        17  0.253935  0.147147    0.142335         0.322008  0.134575\n",
      "17        18  0.277314  0.143223    0.135762         0.316160  0.127542\n",
      "18        19  0.244732  0.152136    0.134252         0.339551  0.129330\n",
      "19        20  0.273656  0.146380    0.133637         0.317420  0.128906\n",
      "20        21  0.253526  0.149862    0.142852         0.320848  0.132912\n",
      "21        22  0.234847  0.161174    0.125353         0.343768  0.134858\n",
      "22        23  0.242171  0.149846    0.131755         0.335385  0.140842\n",
      "23        24  0.233389  0.162281    0.125493         0.344040  0.134797\n",
      "24        25  0.243339  0.149960    0.133252         0.329701  0.143748\n",
      "25        26  0.243048  0.147289    0.136709         0.341144  0.131809\n",
      "26        27  0.244563  0.150139    0.132331         0.328581  0.144386\n",
      "27        28  0.223786  0.156165    0.161860         0.293381  0.164808\n",
      "28        29  0.251063  0.150428    0.139543         0.321198  0.137769\n",
      "29        30  0.250968  0.149869    0.139175         0.320793  0.139195\n",
      "...      ...       ...       ...         ...              ...       ...\n",
      "11426  11427  0.245823  0.146519    0.138175         0.343062  0.126421\n",
      "11427  11428  0.243425  0.150966    0.134835         0.342267  0.128507\n",
      "11428  11429  0.245363  0.146713    0.137517         0.343471  0.126936\n",
      "11429  11430  0.276312  0.144809    0.134287         0.318347  0.126245\n",
      "11430  11431  0.242857  0.152464    0.133597         0.342667  0.128415\n",
      "11431  11432  0.207374  0.128341    0.159416         0.348324  0.156545\n",
      "11432  11433  0.274987  0.143067    0.135855         0.324917  0.121174\n",
      "11433  11434  0.248343  0.153162    0.135791         0.334340  0.128364\n",
      "11434  11435  0.249156  0.147049    0.139082         0.341485  0.123228\n",
      "11435  11436  0.239095  0.159070    0.133350         0.334397  0.134089\n",
      "11436  11437  0.273451  0.149010    0.133736         0.324267  0.119536\n",
      "11437  11438  0.265314  0.148471    0.126851         0.341432  0.117932\n",
      "11438  11439  0.257100  0.153104    0.142478         0.321870  0.125448\n",
      "11439  11440  0.249597  0.152074    0.137737         0.334773  0.125819\n",
      "11440  11441  0.238428  0.158759    0.133167         0.333369  0.136278\n",
      "11441  11442  0.276312  0.146796    0.135182         0.323085  0.118625\n",
      "11442  11443  0.248812  0.144592    0.137319         0.333827  0.135450\n",
      "11443  11444  0.241535  0.150224    0.130093         0.336533  0.141616\n",
      "11444  11445  0.251063  0.150428    0.139543         0.321198  0.137769\n",
      "11445  11446  0.252901  0.154710    0.120702         0.344634  0.127053\n",
      "11446  11447  0.252573  0.151147    0.139331         0.317405  0.139543\n",
      "11447  11448  0.246086  0.151081    0.133120         0.336833  0.132879\n",
      "11448  11449  0.254322  0.153818    0.141414         0.325418  0.125028\n",
      "11449  11450  0.249121  0.150660    0.135594         0.340303  0.124323\n",
      "11450  11451  0.255672  0.144991    0.142573         0.324635  0.132130\n",
      "11451  11452  0.244120  0.154063    0.133010         0.340314  0.128493\n",
      "11452  11453  0.232942  0.161843    0.124798         0.343408  0.137008\n",
      "11453  11454  0.206924  0.129129    0.159454         0.349671  0.154821\n",
      "11454  11455  0.256861  0.146504    0.143933         0.325503  0.127200\n",
      "11455  11456  0.262701  0.152881    0.145837         0.322364  0.116216\n",
      "\n",
      "[11456 rows x 6 columns]\n"
     ]
    }
   ],
   "source": [
    "# and use the classifier on test_df\n",
    "\n",
    "ab_result = ab.predict_proba(test_df.values[:,1:])\n",
    "ab_sub_df = pd.DataFrame(ab_result, columns=['Adoption', 'Died', 'Euthanasia',\n",
    "                                             'Return_to_owner', 'Transfer'])\n",
    "ab_sub_df.insert(0, 'ID', test_df.values[:,0].astype(int))\n",
    "\n",
    "print(ab_sub_df)\n",
    "\n",
    "# write to submission files\n",
    "\n",
    "ab_sub_df.to_csv(\"submission.csv\", index = False)\n",
    "\n"
   ]
  },
  {
   "cell_type": "code",
   "execution_count": null,
   "metadata": {
    "collapsed": true
   },
   "outputs": [],
   "source": [
    "#Future scope: RandomForest"
   ]
  }
 ],
 "metadata": {
  "kernelspec": {
   "display_name": "Python 3",
   "language": "python",
   "name": "python3"
  },
  "language_info": {
   "codemirror_mode": {
    "name": "ipython",
    "version": 3
   },
   "file_extension": ".py",
   "mimetype": "text/x-python",
   "name": "python",
   "nbconvert_exporter": "python",
   "pygments_lexer": "ipython3",
   "version": "3.6.2"
  }
 },
 "nbformat": 4,
 "nbformat_minor": 2
}
